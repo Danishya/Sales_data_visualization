{
 "cells": [
  {
   "cell_type": "code",
   "execution_count": 4,
   "id": "b6d8ba43",
   "metadata": {},
   "outputs": [],
   "source": [
    "import pandas as pd"
   ]
  },
  {
   "cell_type": "code",
   "execution_count": 9,
   "id": "04be1f00",
   "metadata": {},
   "outputs": [
    {
     "name": "stdout",
     "output_type": "stream",
     "text": [
      "              order_id  order_date ship_date       ship_mode  \\\n",
      "0         AG-2011-2040    1/1/2011  6/1/2011  Standard Class   \n",
      "1        IN-2011-47883    1/1/2011  8/1/2011  Standard Class   \n",
      "2         HU-2011-1220    1/1/2011  5/1/2011    Second Class   \n",
      "3      IT-2011-3647632    1/1/2011  5/1/2011    Second Class   \n",
      "4        IN-2011-47883    1/1/2011  8/1/2011  Standard Class   \n",
      "...                ...         ...       ...             ...   \n",
      "51285   CA-2014-115427  31-12-2014  4/1/2015  Standard Class   \n",
      "51286     MO-2014-2560  31-12-2014  5/1/2015  Standard Class   \n",
      "51287   MX-2014-110527  31-12-2014  2/1/2015    Second Class   \n",
      "51288   MX-2014-114783  31-12-2014  6/1/2015  Standard Class   \n",
      "51289   CA-2014-156720  31-12-2014  4/1/2015  Standard Class   \n",
      "\n",
      "          customer_name      segment             state        country  market  \\\n",
      "0       Toby Braunhardt     Consumer       Constantine        Algeria  Africa   \n",
      "1           Joseph Holt     Consumer   New South Wales      Australia    APAC   \n",
      "2         Annie Thurman     Consumer          Budapest        Hungary    EMEA   \n",
      "3          Eugene Moren  Home Office         Stockholm         Sweden      EU   \n",
      "4           Joseph Holt     Consumer   New South Wales      Australia    APAC   \n",
      "...                 ...          ...               ...            ...     ...   \n",
      "51285        Erica Bern    Corporate        California  United States      US   \n",
      "51286         Liz Preis     Consumer  Souss-Massa-Draâ        Morocco  Africa   \n",
      "51287  Charlotte Melton     Consumer           Managua      Nicaragua   LATAM   \n",
      "51288     Tamara Dahlen     Consumer         Chihuahua         Mexico   LATAM   \n",
      "51289     Jill Matthias     Consumer          Colorado  United States      US   \n",
      "\n",
      "        region  ...         category sub_category  \\\n",
      "0       Africa  ...  Office Supplies      Storage   \n",
      "1      Oceania  ...  Office Supplies     Supplies   \n",
      "2         EMEA  ...  Office Supplies      Storage   \n",
      "3        North  ...  Office Supplies        Paper   \n",
      "4      Oceania  ...        Furniture  Furnishings   \n",
      "...        ...  ...              ...          ...   \n",
      "51285     West  ...  Office Supplies      Binders   \n",
      "51286   Africa  ...  Office Supplies      Binders   \n",
      "51287  Central  ...  Office Supplies       Labels   \n",
      "51288    North  ...  Office Supplies       Labels   \n",
      "51289     West  ...  Office Supplies    Fasteners   \n",
      "\n",
      "                                          product_name sales quantity  \\\n",
      "0                                  Tenex Lockers, Blue   408        2   \n",
      "1                             Acme Trimmer, High Speed   120        3   \n",
      "2                              Tenex Box, Single Width    66        4   \n",
      "3                          Enermax Note Cards, Premium    45        3   \n",
      "4                           Eldon Light Bulb, Duo Pack   114        5   \n",
      "...                                                ...   ...      ...   \n",
      "51285  Cardinal Slant-D Ring Binder, Heavy Gauge Vinyl    14        2   \n",
      "51286          Wilson Jones Hole Reinforcements, Clear     4        1   \n",
      "51287           Hon Color Coded Labels, 5000 Label Set    26        3   \n",
      "51288           Hon Legal Exhibit Labels, Alphabetical     7        1   \n",
      "51289                              Bagged Rubber Bands     3        3   \n",
      "\n",
      "       discount    profit  shipping_cost  order_priority  year  \n",
      "0           0.0  106.1400          35.46          Medium  2011  \n",
      "1           0.1   36.0360           9.72          Medium  2011  \n",
      "2           0.0   29.6400           8.17            High  2011  \n",
      "3           0.5  -26.0550           4.82            High  2011  \n",
      "4           0.1   37.7700           4.70          Medium  2011  \n",
      "...         ...       ...            ...             ...   ...  \n",
      "51285       0.2    4.5188           0.89          Medium  2014  \n",
      "51286       0.0    0.4200           0.49          Medium  2014  \n",
      "51287       0.0   12.3600           0.35          Medium  2014  \n",
      "51288       0.0    0.5600           0.20          Medium  2014  \n",
      "51289       0.2   -0.6048           0.17          Medium  2014  \n",
      "\n",
      "[51290 rows x 21 columns]\n"
     ]
    }
   ],
   "source": [
    "#load the data\n",
    "\n",
    "df = pd.read_csv(\"D:\\Sales dataset\\Sales_data_visualization\\data\\SuperStoreOrders.csv\")\n",
    "print(df)"
   ]
  },
  {
   "cell_type": "code",
   "execution_count": 10,
   "id": "897bda35",
   "metadata": {},
   "outputs": [
    {
     "name": "stdout",
     "output_type": "stream",
     "text": [
      "<class 'pandas.core.frame.DataFrame'>\n",
      "RangeIndex: 51290 entries, 0 to 51289\n",
      "Data columns (total 21 columns):\n",
      " #   Column          Non-Null Count  Dtype  \n",
      "---  ------          --------------  -----  \n",
      " 0   order_id        51290 non-null  object \n",
      " 1   order_date      51290 non-null  object \n",
      " 2   ship_date       51290 non-null  object \n",
      " 3   ship_mode       51290 non-null  object \n",
      " 4   customer_name   51290 non-null  object \n",
      " 5   segment         51290 non-null  object \n",
      " 6   state           51290 non-null  object \n",
      " 7   country         51290 non-null  object \n",
      " 8   market          51290 non-null  object \n",
      " 9   region          51290 non-null  object \n",
      " 10  product_id      51290 non-null  object \n",
      " 11  category        51290 non-null  object \n",
      " 12  sub_category    51290 non-null  object \n",
      " 13  product_name    51290 non-null  object \n",
      " 14  sales           51290 non-null  object \n",
      " 15  quantity        51290 non-null  int64  \n",
      " 16  discount        51290 non-null  float64\n",
      " 17  profit          51290 non-null  float64\n",
      " 18  shipping_cost   51290 non-null  float64\n",
      " 19  order_priority  51290 non-null  object \n",
      " 20  year            51290 non-null  int64  \n",
      "dtypes: float64(3), int64(2), object(16)\n",
      "memory usage: 8.2+ MB\n",
      "Shape: (51290, 21)\n"
     ]
    }
   ],
   "source": [
    "#Explore the dataset\n",
    "df.info()\n",
    "\n",
    "#shape of the data\n",
    "print(\"Shape:\",df.shape)"
   ]
  },
  {
   "cell_type": "code",
   "execution_count": null,
   "id": "fd2d581a",
   "metadata": {},
   "outputs": [
    {
     "data": {
      "text/plain": [
       "np.int64(0)"
      ]
     },
     "execution_count": 25,
     "metadata": {},
     "output_type": "execute_result"
    }
   ],
   "source": [
    "#Data cleaning\n",
    "#checks for the missing values\n",
    "dp=df.isnull().sum()\n",
    "\n",
    "\n",
    "#Checks duplicates in dataset\n",
    "df.duplicated().sum()"
   ]
  },
  {
   "cell_type": "code",
   "execution_count": null,
   "id": "cd3880c2",
   "metadata": {},
   "outputs": [],
   "source": []
  },
  {
   "cell_type": "code",
   "execution_count": null,
   "id": "42d30fc9",
   "metadata": {},
   "outputs": [],
   "source": []
  }
 ],
 "metadata": {
  "kernelspec": {
   "display_name": "venv",
   "language": "python",
   "name": "python3"
  },
  "language_info": {
   "codemirror_mode": {
    "name": "ipython",
    "version": 3
   },
   "file_extension": ".py",
   "mimetype": "text/x-python",
   "name": "python",
   "nbconvert_exporter": "python",
   "pygments_lexer": "ipython3",
   "version": "3.9.10"
  }
 },
 "nbformat": 4,
 "nbformat_minor": 5
}
